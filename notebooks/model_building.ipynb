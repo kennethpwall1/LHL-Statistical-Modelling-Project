{
 "cells": [
  {
   "cell_type": "markdown",
   "metadata": {},
   "source": [
    "# Build Regression Model"
   ]
  },
  {
   "cell_type": "code",
   "execution_count": 1,
   "metadata": {},
   "outputs": [],
   "source": [
    "import numpy as np\n",
    "import pandas as pd\n",
    "import statsmodels.api as sm\n",
    "import sqlite3"
   ]
  },
  {
   "cell_type": "code",
   "execution_count": 2,
   "metadata": {},
   "outputs": [
    {
     "data": {
      "text/html": [
       "<div>\n",
       "<style scoped>\n",
       "    .dataframe tbody tr th:only-of-type {\n",
       "        vertical-align: middle;\n",
       "    }\n",
       "\n",
       "    .dataframe tbody tr th {\n",
       "        vertical-align: top;\n",
       "    }\n",
       "\n",
       "    .dataframe thead th {\n",
       "        text-align: right;\n",
       "    }\n",
       "</style>\n",
       "<table border=\"1\" class=\"dataframe\">\n",
       "  <thead>\n",
       "    <tr style=\"text-align: right;\">\n",
       "      <th></th>\n",
       "      <th>station_id</th>\n",
       "      <th>name</th>\n",
       "      <th>distance</th>\n",
       "      <th>rating</th>\n",
       "      <th>free_bikes</th>\n",
       "    </tr>\n",
       "  </thead>\n",
       "  <tbody>\n",
       "    <tr>\n",
       "      <th>0</th>\n",
       "      <td>7a19c49f486d7c0c02b3685d7b240448</td>\n",
       "      <td>La Taqueria Pinche Taco Shop</td>\n",
       "      <td>164.0</td>\n",
       "      <td>8.4</td>\n",
       "      <td>8</td>\n",
       "    </tr>\n",
       "    <tr>\n",
       "      <th>1</th>\n",
       "      <td>7a19c49f486d7c0c02b3685d7b240448</td>\n",
       "      <td>Whole Foods</td>\n",
       "      <td>182.0</td>\n",
       "      <td>8.6</td>\n",
       "      <td>8</td>\n",
       "    </tr>\n",
       "    <tr>\n",
       "      <th>2</th>\n",
       "      <td>7a19c49f486d7c0c02b3685d7b240448</td>\n",
       "      <td>Hokkaido Ramen Santouka</td>\n",
       "      <td>186.0</td>\n",
       "      <td>7.8</td>\n",
       "      <td>8</td>\n",
       "    </tr>\n",
       "    <tr>\n",
       "      <th>3</th>\n",
       "      <td>7a19c49f486d7c0c02b3685d7b240448</td>\n",
       "      <td>Cactus Club Cafe Broadway + Ash</td>\n",
       "      <td>232.0</td>\n",
       "      <td>7.5</td>\n",
       "      <td>8</td>\n",
       "    </tr>\n",
       "    <tr>\n",
       "      <th>4</th>\n",
       "      <td>7a19c49f486d7c0c02b3685d7b240448</td>\n",
       "      <td>Solly's Bagelry</td>\n",
       "      <td>283.0</td>\n",
       "      <td>7.9</td>\n",
       "      <td>8</td>\n",
       "    </tr>\n",
       "  </tbody>\n",
       "</table>\n",
       "</div>"
      ],
      "text/plain": [
       "                         station_id                             name  \\\n",
       "0  7a19c49f486d7c0c02b3685d7b240448     La Taqueria Pinche Taco Shop   \n",
       "1  7a19c49f486d7c0c02b3685d7b240448                      Whole Foods   \n",
       "2  7a19c49f486d7c0c02b3685d7b240448          Hokkaido Ramen Santouka   \n",
       "3  7a19c49f486d7c0c02b3685d7b240448  Cactus Club Cafe Broadway + Ash   \n",
       "4  7a19c49f486d7c0c02b3685d7b240448                  Solly's Bagelry   \n",
       "\n",
       "   distance  rating  free_bikes  \n",
       "0     164.0     8.4           8  \n",
       "1     182.0     8.6           8  \n",
       "2     186.0     7.8           8  \n",
       "3     232.0     7.5           8  \n",
       "4     283.0     7.9           8  "
      ]
     },
     "execution_count": 2,
     "metadata": {},
     "output_type": "execute_result"
    }
   ],
   "source": [
    "con = sqlite3.connect('../data/ebikes.db') \n",
    "query = \"\"\"\n",
    "    SELECT *\n",
    "    FROM points_of_interst\"\"\"\n",
    "df = pd.read_sql_query(query, con)\n",
    "con.close()\n",
    "df.head()"
   ]
  },
  {
   "cell_type": "markdown",
   "metadata": {},
   "source": [
    "Simple linear regression: Distance vs # of free bikes available"
   ]
  },
  {
   "cell_type": "code",
   "execution_count": 3,
   "metadata": {},
   "outputs": [],
   "source": [
    "y = df['free_bikes']"
   ]
  },
  {
   "cell_type": "code",
   "execution_count": 4,
   "metadata": {},
   "outputs": [],
   "source": [
    "x = df['distance']\n",
    "x = sm.add_constant(x) # adding a constant"
   ]
  },
  {
   "cell_type": "code",
   "execution_count": 5,
   "metadata": {},
   "outputs": [
    {
     "name": "stdout",
     "output_type": "stream",
     "text": [
      "                            OLS Regression Results                            \n",
      "==============================================================================\n",
      "Dep. Variable:             free_bikes   R-squared:                       0.027\n",
      "Model:                            OLS   Adj. R-squared:                  0.026\n",
      "Method:                 Least Squares   F-statistic:                     23.43\n",
      "Date:                Thu, 26 Sep 2024   Prob (F-statistic):           1.54e-06\n",
      "Time:                        00:45:55   Log-Likelihood:                -2791.7\n",
      "No. Observations:                 857   AIC:                             5587.\n",
      "Df Residuals:                     855   BIC:                             5597.\n",
      "Df Model:                           1                                         \n",
      "Covariance Type:            nonrobust                                         \n",
      "==============================================================================\n",
      "                 coef    std err          t      P>|t|      [0.025      0.975]\n",
      "------------------------------------------------------------------------------\n",
      "const          7.1181      0.396     17.982      0.000       6.341       7.895\n",
      "distance       0.0045      0.001      4.841      0.000       0.003       0.006\n",
      "==============================================================================\n",
      "Omnibus:                       62.633   Durbin-Watson:                   0.565\n",
      "Prob(Omnibus):                  0.000   Jarque-Bera (JB):               75.055\n",
      "Skew:                           0.721   Prob(JB):                     5.03e-17\n",
      "Kurtosis:                       3.157   Cond. No.                         793.\n",
      "==============================================================================\n",
      "\n",
      "Notes:\n",
      "[1] Standard Errors assume that the covariance matrix of the errors is correctly specified.\n"
     ]
    }
   ],
   "source": [
    "lin_reg = sm.OLS(y,x)\n",
    "model = lin_reg.fit()\n",
    "print_model = model.summary()\n",
    "print(print_model)"
   ]
  },
  {
   "cell_type": "code",
   "execution_count": 6,
   "metadata": {},
   "outputs": [
    {
     "data": {
      "text/html": [
       "<div>\n",
       "<style scoped>\n",
       "    .dataframe tbody tr th:only-of-type {\n",
       "        vertical-align: middle;\n",
       "    }\n",
       "\n",
       "    .dataframe tbody tr th {\n",
       "        vertical-align: top;\n",
       "    }\n",
       "\n",
       "    .dataframe thead th {\n",
       "        text-align: right;\n",
       "    }\n",
       "</style>\n",
       "<table border=\"1\" class=\"dataframe\">\n",
       "  <thead>\n",
       "    <tr style=\"text-align: right;\">\n",
       "      <th></th>\n",
       "      <th>free_bikes</th>\n",
       "      <th>distance</th>\n",
       "    </tr>\n",
       "    <tr>\n",
       "      <th>station_id</th>\n",
       "      <th></th>\n",
       "      <th></th>\n",
       "    </tr>\n",
       "  </thead>\n",
       "  <tbody>\n",
       "    <tr>\n",
       "      <th>b9baf685b7053de899bf3467f61c2781</th>\n",
       "      <td>16.0</td>\n",
       "      <td>9.832073</td>\n",
       "    </tr>\n",
       "    <tr>\n",
       "      <th>0c42f45e4a14957ad4a6d521d0ba8bc3</th>\n",
       "      <td>24.0</td>\n",
       "      <td>26.698440</td>\n",
       "    </tr>\n",
       "    <tr>\n",
       "      <th>7d231a181d21056e4ba80c4d9939fe92</th>\n",
       "      <td>6.0</td>\n",
       "      <td>27.523596</td>\n",
       "    </tr>\n",
       "    <tr>\n",
       "      <th>e9b37f2d9b7b2e2e3ade73f13acb69b2</th>\n",
       "      <td>3.0</td>\n",
       "      <td>28.430047</td>\n",
       "    </tr>\n",
       "    <tr>\n",
       "      <th>fbb1d30d7f30b049873f5be5688563d4</th>\n",
       "      <td>0.0</td>\n",
       "      <td>31.074777</td>\n",
       "    </tr>\n",
       "  </tbody>\n",
       "</table>\n",
       "</div>"
      ],
      "text/plain": [
       "                                  free_bikes   distance\n",
       "station_id                                             \n",
       "b9baf685b7053de899bf3467f61c2781        16.0   9.832073\n",
       "0c42f45e4a14957ad4a6d521d0ba8bc3        24.0  26.698440\n",
       "7d231a181d21056e4ba80c4d9939fe92         6.0  27.523596\n",
       "e9b37f2d9b7b2e2e3ade73f13acb69b2         3.0  28.430047\n",
       "fbb1d30d7f30b049873f5be5688563d4         0.0  31.074777"
      ]
     },
     "execution_count": 6,
     "metadata": {},
     "output_type": "execute_result"
    }
   ],
   "source": [
    "#The number of free ebikes is the same for each station and each POI will have the same free ebike so the average is more representatitive\n",
    "df_group = df.groupby('station_id')[['free_bikes', 'distance']].mean().sort_values(by='distance')\n",
    "df_group.head()"
   ]
  },
  {
   "cell_type": "code",
   "execution_count": 7,
   "metadata": {},
   "outputs": [
    {
     "name": "stdout",
     "output_type": "stream",
     "text": [
      "                            OLS Regression Results                            \n",
      "==============================================================================\n",
      "Dep. Variable:             free_bikes   R-squared:                       0.007\n",
      "Model:                            OLS   Adj. R-squared:                  0.000\n",
      "Method:                 Least Squares   F-statistic:                     1.078\n",
      "Date:                Thu, 26 Sep 2024   Prob (F-statistic):              0.301\n",
      "Time:                        00:46:14   Log-Likelihood:                -529.97\n",
      "No. Observations:                 162   AIC:                             1064.\n",
      "Df Residuals:                     160   BIC:                             1070.\n",
      "Df Model:                           1                                         \n",
      "Covariance Type:            nonrobust                                         \n",
      "==============================================================================\n",
      "                 coef    std err          t      P>|t|      [0.025      0.975]\n",
      "------------------------------------------------------------------------------\n",
      "const          7.5748      1.086      6.972      0.000       5.429       9.720\n",
      "distance       0.0029      0.003      1.038      0.301      -0.003       0.008\n",
      "==============================================================================\n",
      "Omnibus:                       16.881   Durbin-Watson:                   2.036\n",
      "Prob(Omnibus):                  0.000   Jarque-Bera (JB):               19.068\n",
      "Skew:                           0.826   Prob(JB):                     7.23e-05\n",
      "Kurtosis:                       3.307   Cond. No.                         842.\n",
      "==============================================================================\n",
      "\n",
      "Notes:\n",
      "[1] Standard Errors assume that the covariance matrix of the errors is correctly specified.\n"
     ]
    }
   ],
   "source": [
    "y = df_group['free_bikes']\n",
    "x = df_group['distance']\n",
    "x = sm.add_constant(x) # adding a constant\n",
    "lin_reg = sm.OLS(y,x)\n",
    "model = lin_reg.fit()\n",
    "print_model = model.summary()\n",
    "print(print_model)"
   ]
  },
  {
   "cell_type": "markdown",
   "metadata": {},
   "source": [
    "Provide model output and an interpretation of the results. "
   ]
  },
  {
   "cell_type": "markdown",
   "metadata": {},
   "source": [
    "H0: The points of of interest distance has no significant effect on the number of ebikes available\n",
    "\n",
    "H1: the points of interest have a significant effect on the number of ebikes available\n",
    "\n",
    "R squared: is zero so the independent variable (POI distance) doesn't explain the variability in the dependent variable (free ebikes)\n",
    "\n",
    "P value: pvalue is 0.3, which is much greater that 0.05. A pvalue greater than 0.05 indicates that the obeserved data is consistent with the null hypothesis, which is the POI distance has no significant effect on the number of ebikes available"
   ]
  },
  {
   "cell_type": "markdown",
   "metadata": {},
   "source": [
    "Simple linear regression: Rating vs # of free bikes available"
   ]
  },
  {
   "cell_type": "code",
   "execution_count": 8,
   "metadata": {},
   "outputs": [
    {
     "name": "stdout",
     "output_type": "stream",
     "text": [
      "                            OLS Regression Results                            \n",
      "==============================================================================\n",
      "Dep. Variable:             free_bikes   R-squared:                       0.000\n",
      "Model:                            OLS   Adj. R-squared:                 -0.001\n",
      "Method:                 Least Squares   F-statistic:                    0.2349\n",
      "Date:                Thu, 26 Sep 2024   Prob (F-statistic):              0.628\n",
      "Time:                        00:46:19   Log-Likelihood:                -2803.2\n",
      "No. Observations:                 857   AIC:                             5610.\n",
      "Df Residuals:                     855   BIC:                             5620.\n",
      "Df Model:                           1                                         \n",
      "Covariance Type:            nonrobust                                         \n",
      "==============================================================================\n",
      "                 coef    std err          t      P>|t|      [0.025      0.975]\n",
      "------------------------------------------------------------------------------\n",
      "const          8.2669      0.974      8.489      0.000       6.356      10.178\n",
      "rating         0.0583      0.120      0.485      0.628      -0.178       0.295\n",
      "==============================================================================\n",
      "Omnibus:                       57.098   Durbin-Watson:                   0.533\n",
      "Prob(Omnibus):                  0.000   Jarque-Bera (JB):               67.109\n",
      "Skew:                           0.679   Prob(JB):                     2.68e-15\n",
      "Kurtosis:                       3.184   Cond. No.                         36.7\n",
      "==============================================================================\n",
      "\n",
      "Notes:\n",
      "[1] Standard Errors assume that the covariance matrix of the errors is correctly specified.\n"
     ]
    }
   ],
   "source": [
    "y = df['free_bikes']\n",
    "x = df['rating']\n",
    "x = sm.add_constant(x) # adding a constant\n",
    "lin_reg = sm.OLS(y,x)\n",
    "model = lin_reg.fit()\n",
    "print_model = model.summary()\n",
    "print(print_model)"
   ]
  },
  {
   "cell_type": "markdown",
   "metadata": {},
   "source": [
    "H0: There is no significant relationship between POI rating and ebike station distance\n",
    "\n",
    "H1: There is a significant relationship between POI rating and ebike station distance\n",
    "\n",
    "R squared: is low at 0.133 so the independent variable (POI rating) doesn't explain the variability in the dependent variable (ebike station distance)\n",
    "\n",
    "P value: pvalue is 0.628, which is greater than 0.05. A pvalue greater than 0.05 indicates that the obeserved data is consistent with the null hypothesis, which is the POI rating has no significant effect on the number of ebikes available"
   ]
  },
  {
   "cell_type": "markdown",
   "metadata": {},
   "source": [
    "Simple linear regression: distance vs rating"
   ]
  },
  {
   "cell_type": "code",
   "execution_count": 9,
   "metadata": {},
   "outputs": [
    {
     "name": "stdout",
     "output_type": "stream",
     "text": [
      "                            OLS Regression Results                            \n",
      "==============================================================================\n",
      "Dep. Variable:               distance   R-squared:                       0.007\n",
      "Model:                            OLS   Adj. R-squared:                  0.006\n",
      "Method:                 Least Squares   F-statistic:                     6.017\n",
      "Date:                Thu, 26 Sep 2024   Prob (F-statistic):             0.0144\n",
      "Time:                        00:46:25   Log-Likelihood:                -5887.9\n",
      "No. Observations:                 857   AIC:                         1.178e+04\n",
      "Df Residuals:                     855   BIC:                         1.179e+04\n",
      "Df Model:                           1                                         \n",
      "Covariance Type:            nonrobust                                         \n",
      "==============================================================================\n",
      "                 coef    std err          t      P>|t|      [0.025      0.975]\n",
      "------------------------------------------------------------------------------\n",
      "const        276.3689     35.620      7.759      0.000     206.456     346.281\n",
      "rating        10.7987      4.402      2.453      0.014       2.158      19.439\n",
      "==============================================================================\n",
      "Omnibus:                       78.960   Durbin-Watson:                   1.096\n",
      "Prob(Omnibus):                  0.000   Jarque-Bera (JB):               98.903\n",
      "Skew:                           0.811   Prob(JB):                     3.34e-22\n",
      "Kurtosis:                       3.368   Cond. No.                         36.7\n",
      "==============================================================================\n",
      "\n",
      "Notes:\n",
      "[1] Standard Errors assume that the covariance matrix of the errors is correctly specified.\n"
     ]
    }
   ],
   "source": [
    "y = df['distance']\n",
    "x = df['rating']\n",
    "x = sm.add_constant(x) # adding a constant\n",
    "lin_reg = sm.OLS(y,x)\n",
    "model = lin_reg.fit()\n",
    "print_model = model.summary()\n",
    "print(print_model)"
   ]
  },
  {
   "cell_type": "markdown",
   "metadata": {},
   "source": [
    "Multiple linear regression"
   ]
  },
  {
   "cell_type": "code",
   "execution_count": 10,
   "metadata": {},
   "outputs": [
    {
     "name": "stdout",
     "output_type": "stream",
     "text": [
      "                            OLS Regression Results                            \n",
      "==============================================================================\n",
      "Dep. Variable:               distance   R-squared:                       1.000\n",
      "Model:                            OLS   Adj. R-squared:                  1.000\n",
      "Method:                 Least Squares   F-statistic:                 2.113e+32\n",
      "Date:                Thu, 26 Sep 2024   Prob (F-statistic):               0.00\n",
      "Time:                        00:46:28   Log-Likelihood:                 23407.\n",
      "No. Observations:                 857   AIC:                        -4.681e+04\n",
      "Df Residuals:                     854   BIC:                        -4.679e+04\n",
      "Df Model:                           2                                         \n",
      "Covariance Type:            nonrobust                                         \n",
      "==============================================================================\n",
      "                 coef    std err          t      P>|t|      [0.025      0.975]\n",
      "------------------------------------------------------------------------------\n",
      "const      -1.469e-14   5.26e-14     -0.279      0.780   -1.18e-13    8.85e-14\n",
      "distance       1.0000   4.88e-17   2.05e+16      0.000       1.000       1.000\n",
      "rating       2.51e-14   6.31e-15      3.981      0.000    1.27e-14    3.75e-14\n",
      "==============================================================================\n",
      "Omnibus:                       86.921   Durbin-Watson:                   0.634\n",
      "Prob(Omnibus):                  0.000   Jarque-Bera (JB):              111.887\n",
      "Skew:                           0.838   Prob(JB):                     5.06e-25\n",
      "Kurtosis:                       3.572   Cond. No.                     2.00e+03\n",
      "==============================================================================\n",
      "\n",
      "Notes:\n",
      "[1] Standard Errors assume that the covariance matrix of the errors is correctly specified.\n",
      "[2] The condition number is large,  2e+03. This might indicate that there are\n",
      "strong multicollinearity or other numerical problems.\n"
     ]
    }
   ],
   "source": [
    "x = df[['distance','rating']]\n",
    "x = sm.add_constant(x) # adding a constant\n",
    "lin_reg = sm.OLS(y,x)\n",
    "model = lin_reg.fit()\n",
    "print_model = model.summary()\n",
    "print(print_model)"
   ]
  }
 ],
 "metadata": {
  "kernelspec": {
   "display_name": "llm_env",
   "language": "python",
   "name": "python3"
  },
  "language_info": {
   "codemirror_mode": {
    "name": "ipython",
    "version": 3
   },
   "file_extension": ".py",
   "mimetype": "text/x-python",
   "name": "python",
   "nbconvert_exporter": "python",
   "pygments_lexer": "ipython3",
   "version": "3.10.14"
  }
 },
 "nbformat": 4,
 "nbformat_minor": 4
}
